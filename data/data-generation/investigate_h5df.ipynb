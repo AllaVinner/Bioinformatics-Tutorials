{
 "cells": [
  {
   "cell_type": "code",
   "execution_count": null,
   "metadata": {
    "collapsed": true
   },
   "outputs": [],
   "source": [
    "import os\n",
    "import h5py\n",
    "import scanpy as sc"
   ]
  },
  {
   "cell_type": "code",
   "execution_count": null,
   "outputs": [],
   "source": [
    "def print_file_system(root, depth=-1):\n",
    "\tif depth == 0:\n",
    "\t\tprint(root.name, '...')\n",
    "\t\treturn None\n",
    "\tprint(root.name)\n",
    "\tif hasattr(root, 'keys'):\n",
    "\t\tfor obj in root.keys():\n",
    "\t\t\tprint_file_system(root[obj], depth-1)"
   ],
   "metadata": {
    "collapsed": false
   }
  },
  {
   "cell_type": "code",
   "execution_count": null,
   "outputs": [],
   "source": [
    "with h5py.File('pbmc3k.h5ad', 'r') as f:\n",
    "    print_file_system(f)\n"
   ],
   "metadata": {
    "collapsed": false
   }
  },
  {
   "cell_type": "code",
   "execution_count": null,
   "outputs": [],
   "source": [
    "with h5py.File('1M_neuron.h5ad', 'r') as f:\n",
    "\tprint_file_system(f)\n",
    "\tprint(f['var']['_index'][0:10])\n"
   ],
   "metadata": {
    "collapsed": false
   }
  },
  {
   "cell_type": "code",
   "execution_count": null,
   "outputs": [],
   "source": [
    "with h5py.File(r'..\\1M_neurons_filtered_gene_bc_matrices_h5.h5', 'r') as f:\n",
    "    print_file_system(f)\n"
   ],
   "metadata": {
    "collapsed": false
   }
  },
  {
   "cell_type": "code",
   "execution_count": null,
   "outputs": [],
   "source": [
    "with h5py.File('pbmc3k.h5ad', 'r') as f:\n",
    "    print(f['/var/index'][1:10])"
   ],
   "metadata": {
    "collapsed": false
   }
  },
  {
   "cell_type": "code",
   "execution_count": null,
   "outputs": [],
   "source": [
    "\n",
    "with h5py.File(r'..\\1M_neurons_filtered_gene_bc_matrices_h5.h5', 'r') as f1:\n",
    "    with h5py.File('1M_neuron.h5ad', 'r') as f2:\n",
    "        #print('values', f1['mm10']['genes'][1231], f2['var']['_index'][1231])\n",
    "        print('shapes', f1['mm10']['genes'].shape, f2['var']['_index'].shape)"
   ],
   "metadata": {
    "collapsed": false
   }
  },
  {
   "cell_type": "code",
   "execution_count": null,
   "outputs": [],
   "source": [],
   "metadata": {
    "collapsed": false
   }
  }
 ],
 "metadata": {
  "kernelspec": {
   "name": "bioinformatics-tutorials",
   "language": "python",
   "display_name": "bioinformatics-tutorials"
  },
  "language_info": {
   "codemirror_mode": {
    "name": "ipython",
    "version": 2
   },
   "file_extension": ".py",
   "mimetype": "text/x-python",
   "name": "python",
   "nbconvert_exporter": "python",
   "pygments_lexer": "ipython2",
   "version": "2.7.6"
  }
 },
 "nbformat": 4,
 "nbformat_minor": 0
}
